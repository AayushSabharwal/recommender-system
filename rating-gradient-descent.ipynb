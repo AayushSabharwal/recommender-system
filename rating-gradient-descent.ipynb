{
 "cells": [
  {
   "cell_type": "code",
   "execution_count": 22,
   "metadata": {},
   "outputs": [],
   "source": [
    "import numpy as np\n",
    "import pickle\n",
    "import random\n",
    "random.seed(12)\n",
    "\n",
    "similarity_files = ['director-similarity', 'genre-similarity', 'rating-similarity']\n",
    "weights = np.array([1., 1., 1.], dtype='<f2')\n",
    "movie_to_id = pickle.load(open('movie-id-map.pkl', 'rb'))"
   ]
  },
  {
   "cell_type": "code",
   "execution_count": 23,
   "metadata": {},
   "outputs": [],
   "source": [
    "import pandas as pd\n",
    "cm = pd.read_csv('final.csv')\n",
    "allmv = set(cm.movieId)\n",
    "del cm\n",
    "mymv = random.sample(allmv, 3000)\n",
    "inmv = random.sample(allmv, 10)\n",
    "del allmv\n",
    "del pd"
   ]
  },
  {
   "cell_type": "code",
   "execution_count": 24,
   "metadata": {},
   "outputs": [],
   "source": [
    "adj_mat = calc_adj_mat()"
   ]
  },
  {
   "cell_type": "code",
   "execution_count": 4,
   "metadata": {},
   "outputs": [],
   "source": [
    "def calc_adj_mat():\n",
    "    adj_mat_t = np.zeros((len(movie_to_id), len(movie_to_id)), dtype='<f2')\n",
    "    for param, weight in zip(similarity_files, weights):\n",
    "        npf = np.memmap(param+'.npy', mode='r', shape=adj_mat_t.shape, dtype='<f2')\n",
    "        for i in range(len(movie_to_id)):\n",
    "            adj_mat_t[:, i] += npf[:, i] * weight\n",
    "    return adj_mat_t"
   ]
  },
  {
   "cell_type": "code",
   "execution_count": 60,
   "metadata": {},
   "outputs": [],
   "source": [
    "pagerank(mymv)"
   ]
  },
  {
   "cell_type": "code",
   "execution_count": 58,
   "metadata": {},
   "outputs": [],
   "source": [
    "def pagerank(movies: list, epsilon:float = 1e-4, maxiterations:int = 1000):\n",
    "    inds = np.array([movie_to_id[i] for i in movies])\n",
    "    mat = adj_mat[np.vstack(inds), inds]\n",
    "    v = np.zeros(mat.shape[0], dtype='<f4')\n",
    "    oldv = v.copy()\n",
    "    v[0] = 1\n",
    "    i = 0\n",
    "    while np.amax(np.abs(oldv-v)) > epsilon and i < maxiterations:\n",
    "        oldv = v.copy()\n",
    "        v = np.matmul(v, mat)\n",
    "        v /= np.linalg.norm(v)\n",
    "        i += 1\n",
    "    pr = {movies[i]: v[i] for i in range(len(movies))}\n",
    "    return pr"
   ]
  },
  {
   "cell_type": "code",
   "execution_count": 30,
   "metadata": {},
   "outputs": [
    {
     "name": "stdout",
     "output_type": "stream",
     "text": [
      "[[0 1 2]\n",
      " [3 4 5]\n",
      " [6 7 8]]\n",
      "[1. 1. 1.]\n",
      "[ 9. 12. 15.]\n",
      "21.213203435596427\n",
      "[0.42426407 0.56568542 0.70710678]\n"
     ]
    }
   ],
   "source": [
    "a = np.arange(9).reshape(3, 3)\n",
    "v = np.ones(3)\n",
    "print(a)\n",
    "print(v)\n",
    "x = np.matmul(v, a)\n",
    "print(x)\n",
    "print(np.linalg.norm(x))\n",
    "print(x/np.linalg.norm(x))"
   ]
  },
  {
   "cell_type": "code",
   "execution_count": 5,
   "metadata": {},
   "outputs": [
    {
     "name": "stdout",
     "output_type": "stream",
     "text": [
      "done director-similarity.npz\n",
      "done genre-similarity.npz\n",
      "done rating-similarity.npz\n"
     ]
    }
   ],
   "source": [
    "for param in similarity_files:\n",
    "    with np.load(param, 'r') as npf:\n",
    "        arr = npf['arr_0']\n",
    "        mm = np.memmap(param+'.npy', mode='w+', dtype='<f2', shape=arr.shape)\n",
    "        mm[:] = arr[:]\n",
    "        mm.flush()\n",
    "    print('done', param)"
   ]
  },
  {
   "cell_type": "code",
   "execution_count": 5,
   "metadata": {},
   "outputs": [
    {
     "name": "stdout",
     "output_type": "stream",
     "text": [
      "loaded director-similarity.npz\n",
      "added director-similarity.npz\n",
      "saved director-similarity.npz\n",
      "loaded genre-similarity.npz\n",
      "added genre-similarity.npz\n",
      "saved genre-similarity.npz\n"
     ]
    }
   ],
   "source": [
    "for param in similarity_files:\n",
    "    with np.load(param, 'r') as npf:\n",
    "        arr = npf['arr_0']\n",
    "    print('loaded', param)\n",
    "    arr += arr.T\n",
    "    print('added', param)\n",
    "    np.savez_compressed(param, arr)\n",
    "    print('saved', param)"
   ]
  }
 ],
 "metadata": {
  "kernelspec": {
   "display_name": "Python 3",
   "language": "python",
   "name": "python3"
  },
  "language_info": {
   "codemirror_mode": {
    "name": "ipython",
    "version": 3
   },
   "file_extension": ".py",
   "mimetype": "text/x-python",
   "name": "python",
   "nbconvert_exporter": "python",
   "pygments_lexer": "ipython3",
   "version": "3.8.5"
  }
 },
 "nbformat": 4,
 "nbformat_minor": 4
}
