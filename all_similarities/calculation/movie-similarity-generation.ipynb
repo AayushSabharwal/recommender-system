{
 "cells": [
  {
   "cell_type": "code",
   "execution_count": 1,
   "metadata": {},
   "outputs": [],
   "source": [
    "import pandas as pd\n",
    "import numpy as np\n",
    "import random\n",
    "import pickle\n",
    "import numba"
   ]
  },
  {
   "cell_type": "code",
   "execution_count": 2,
   "metadata": {},
   "outputs": [],
   "source": [
    "cm = pd.read_csv('../../processed_data/cleaned_subsetted_movies.csv')\n",
    "cm['genres'] = cm.genres.str.split('/')\n",
    "cm['tags'] = cm.tags.str.split('/')\n",
    "mymv = set(cm.movieId)"
   ]
  },
  {
   "cell_type": "code",
   "execution_count": 32,
   "metadata": {},
   "outputs": [],
   "source": [
    "s = set()\n",
    "for it in cm['genres']:\n",
    "    s |= set(it)"
   ]
  },
  {
   "cell_type": "code",
   "execution_count": 5,
   "metadata": {},
   "outputs": [],
   "source": [
    "with open('movie-id-map.pkl', 'rb') as f:\n",
    "    mv2id = pickle.load(f)\n",
    "with open('movie-id-map2.pkl', 'rb') as f:\n",
    "    mv2id2 = pickle.load(f)"
   ]
  },
  {
   "cell_type": "code",
   "execution_count": 4,
   "metadata": {},
   "outputs": [],
   "source": [
    "def calculate_similarity(cname: str):\n",
    "    dist = set()\n",
    "    for it in cm[cname]:\n",
    "        dist |= set(it)\n",
    "    print(f\"len {len(dist)}\")\n",
    "    dist = list(dist)\n",
    "    p2id = {dist[i]: i for i in range(len(dist))}\n",
    "    psim = np.zeros((len(dist), len(mymv)), dtype='f4')\n",
    "    for mv, it in cm[['movieId', cname]].itertuples(index=False):\n",
    "        for i in it:\n",
    "            psim[p2id[i], mv2id2[mv]] += 1\n",
    "    print('done psim')\n",
    "    \n",
    "    msim = np.zeros((len(mymv), len(mymv)), dtype='f4')\n",
    "    for i in range(len(mymv)):\n",
    "        msim[:, i] += np.linalg.norm(psim[:, np.newaxis, i]-psim, axis=0)\n",
    "        if i%1000 == 0:\n",
    "            print(f'done{i}')\n",
    "    return msim"
   ]
  },
  {
   "cell_type": "code",
   "execution_count": null,
   "metadata": {},
   "outputs": [],
   "source": [
    "np.savez_compressed('director-similarity.npz', calculate_similarity('director'))"
   ]
  },
  {
   "cell_type": "code",
   "execution_count": null,
   "metadata": {
    "jupyter": {
     "source_hidden": true
    }
   },
   "outputs": [],
   "source": [
    "def big_calculate_similarity(cname: str):\n",
    "    dist = set()\n",
    "    for it in cm[cname]:\n",
    "        dist |= set(it)\n",
    "    print(f\"len {len(dist)}\")\n",
    "    dist = list(dist)\n",
    "    p2id = {dist[i]: i for i in range(len(dist))}\n",
    "    f = h5py.File('temp.hdf5', 'w')\n",
    "    psim = f.create_dataset(cname+'-similarity', (len(dist), len(mymv)), dtype='f2')\n",
    "    i = 0\n",
    "    for mv, it in cm[['movieId', cname]].itertuples(index=False):\n",
    "        psim[np.sort(np.array([p2id[i] for i in it])), mv2id[mv]] = 1\n",
    "        i += 1\n",
    "        if i%1000 == 0:\n",
    "            print(f'psim {i}')\n",
    "    print('done psim')\n",
    "    f.close()\n",
    "    return\n",
    "    final = h5py.File('similarities.hdf5', 'w')\n",
    "    msim = final.create_dataset(cname+'-similarity', (len(mymv), len(mymv)), dtype='f2')\n",
    "    for i in range(len(mymv)):\n",
    "        msim[:, i] += np.linalg.norm(psim[:, i][:, np.newaxis]-psim, axis=0)\n",
    "        if i%1000 == 0:\n",
    "            print(f'done{i}')\n",
    "    f.close()\n",
    "    final.close()"
   ]
  },
  {
   "cell_type": "code",
   "execution_count": null,
   "metadata": {},
   "outputs": [],
   "source": [
    "np.savez_compressed('genre-similarity.npz', calculate_similarity('genres'))"
   ]
  },
  {
   "cell_type": "code",
   "execution_count": 8,
   "metadata": {},
   "outputs": [],
   "source": [
    "def rating_similarity():\n",
    "    rsim = np.zeros((len(mymv), len(mymv)), dtype='f4')\n",
    "    i = 0\n",
    "    for mv, rt in cm[['movieId', 'rating']].itertuples(index=False):\n",
    "        rsim[mv2id2[mv], :] += rt\n",
    "        rsim[:, mv2id2[mv]] -= rt\n",
    "        i += 1\n",
    "        if i%1000 == 0:\n",
    "            print('done', i)\n",
    "    return rsim"
   ]
  },
  {
   "cell_type": "code",
   "execution_count": null,
   "metadata": {},
   "outputs": [],
   "source": [
    "np.savez_compressed('rating-similarity.npz', rating_similarity())"
   ]
  },
  {
   "cell_type": "code",
   "execution_count": null,
   "metadata": {},
   "outputs": [],
   "source": [
    "final['cast-similarity']"
   ]
  },
  {
   "cell_type": "code",
   "execution_count": 10,
   "metadata": {},
   "outputs": [],
   "source": [
    "def half_similarity(cname: str):\n",
    "    print('s')\n",
    "    rf = h5py.File('/media/aayush/Acer/UbuntuStuff/temp.hdf5', 'r')\n",
    "    print('l1')\n",
    "    psim = rf[cname+'-similarity']\n",
    "    print('l2')\n",
    "    final = h5py.File('/media/aayush/Acer/UbuntuStuff/similarities.hdf5', 'w')\n",
    "    print('l3')\n",
    "    msim = final.create_dataset(cname+'-similarity', (len(mymv), len(mymv)), dtype='f2')\n",
    "    print('l4')\n",
    "    for i in range(len(mymv)-1):\n",
    "        print('start', i)\n",
    "        row = rf[cname+'-similarity'][:, i]\n",
    "        for j in range(i+1, len(mymv)):\n",
    "            print('mid', j)\n",
    "            msim[i, j] = np.linalg.norm(row - rf[cname+'-similarity'][:, j])\n",
    "    rf.close()\n",
    "    final.close()"
   ]
  },
  {
   "cell_type": "code",
   "execution_count": null,
   "metadata": {},
   "outputs": [],
   "source": [
    "big_calculate_similarity('cast')\n"
   ]
  },
  {
   "cell_type": "code",
   "execution_count": null,
   "metadata": {},
   "outputs": [],
   "source": [
    "half_similarity('cast')"
   ]
  },
  {
   "cell_type": "code",
   "execution_count": 4,
   "metadata": {},
   "outputs": [],
   "source": [
    "def other_calculate_similarity(cname: str):\n",
    "    dist = set()\n",
    "    for it in cm[cname].dropna():\n",
    "        dist |= set(it)\n",
    "    print(f\"len {len(dist)}\")\n",
    "    dist = list(dist)\n",
    "    p2id = {dist[i]: i for i in range(len(dist))}\n",
    "    psim = np.zeros((len(dist), len(mymv)), dtype='f4')\n",
    "    for mv, it in cm[['movieId', cname]].dropna().itertuples(index=False):\n",
    "        psim[[p2id[i] for i in it], mv2id2[mv]] += 1\n",
    "    print('done psim')\n",
    "    return psim\n",
    "    msim = np.zeros((len(mymv), len(mymv)), dtype='f4')\n",
    "    for i in range(len(mymv)):\n",
    "        msim[:, i] += np.linalg.norm(psim[:, np.newaxis, i]-psim, axis=0)\n",
    "        print(f'done{i}')\n",
    "    return msim"
   ]
  },
  {
   "cell_type": "code",
   "execution_count": 5,
   "metadata": {},
   "outputs": [],
   "source": [
    "#@numba.jit(nopython=True, parallel=True)\n",
    "def other_half_similarity(sim, nmv, start, end):\n",
    "    print('Enter')\n",
    "    msim = np.zeros((len(mymv), len(mymv)), dtype='f4')\n",
    "    for i in range(len(mymv)):\n",
    "        msim[:, i] += np.linalg.norm(psim[:, np.newaxis, i]-psim, axis=0)\n",
    "        if i%1000 == 0:\n",
    "            print(f'done{i}')\n",
    "    return msim"
   ]
  },
  {
   "cell_type": "code",
   "execution_count": 6,
   "metadata": {},
   "outputs": [
    {
     "name": "stdout",
     "output_type": "stream",
     "text": [
      "len 32\n",
      "done psim\n"
     ]
    }
   ],
   "source": [
    "psim = other_calculate_similarity('genres')"
   ]
  },
  {
   "cell_type": "code",
   "execution_count": null,
   "metadata": {},
   "outputs": [],
   "source": [
    "msim"
   ]
  },
  {
   "cell_type": "code",
   "execution_count": 13,
   "metadata": {},
   "outputs": [],
   "source": [
    "mm = np.memmap('genre-similarity.npy', mode='w+', shape=msim.shape, dtype=msim.dtype)\n",
    "mm[:] = msim\n",
    "mm.flush()"
   ]
  },
  {
   "cell_type": "code",
   "execution_count": null,
   "metadata": {},
   "outputs": [],
   "source": [
    "mm"
   ]
  },
  {
   "cell_type": "code",
   "execution_count": 12,
   "metadata": {},
   "outputs": [],
   "source": [
    "np.savez_compressed('genre-similarity-f4.npz', msim)"
   ]
  },
  {
   "cell_type": "code",
   "execution_count": null,
   "metadata": {},
   "outputs": [],
   "source": [
    "msim = other_half_similarity(psim, len(mymv), 0, 24000)"
   ]
  },
  {
   "cell_type": "code",
   "execution_count": 19,
   "metadata": {},
   "outputs": [],
   "source": [
    "def subset_similarity(cname: int, movies: list):\n",
    "    subset = cm[cm.movieId.isin(set(movies))].dropna()\n",
    "    dist = set()\n",
    "    for it in subset[cname]:\n",
    "        dist |= set(it)\n",
    "    dist = list(dist)\n",
    "    print('done set')\n",
    "    p_to_ind = {dist[i]: i for i in range(len(dist))}\n",
    "    movie_to_ind = {movies[i]: i for i in range(len(movies))}\n",
    "    psim = np.zeros((len(dist), len(movies)), dtype='<f2')\n",
    "    for mv, it in subset[['movieId', cname]].itertuples(index=False):\n",
    "        psim[[p_to_ind[i] for i in it], movie_to_ind[mv]] += 1\n",
    "    print('done psim')\n",
    "    msim = np.zeros((len(movies), len(movies)), dtype='<f2')\n",
    "    for i in range(len(movies)):\n",
    "        msim[:, i] += np.linalg.norm(psim[:, np.newaxis, i]-psim, axis=0)\n",
    "#         if i%100 == 0:\n",
    "        print('msim', i)\n",
    "    return msim"
   ]
  },
  {
   "cell_type": "code",
   "execution_count": 19,
   "metadata": {},
   "outputs": [],
   "source": [
    "uids = pickle.load(open('most-active-users.pkl', 'rb'))"
   ]
  },
  {
   "cell_type": "code",
   "execution_count": 4,
   "metadata": {},
   "outputs": [],
   "source": [
    "\n",
    "us = pd.read_csv('ml-25m/timeless_ratings.csv')\n",
    "us = us[us.userId.isin(uids)]\n",
    "us = us[us.movieId.isin(mv2id2)]"
   ]
  },
  {
   "cell_type": "code",
   "execution_count": 5,
   "metadata": {},
   "outputs": [
    {
     "data": {
      "text/plain": [
       "(9017307, 3)"
      ]
     },
     "execution_count": 5,
     "metadata": {},
     "output_type": "execute_result"
    }
   ],
   "source": [
    "us.shape"
   ]
  },
  {
   "cell_type": "code",
   "execution_count": 22,
   "metadata": {},
   "outputs": [],
   "source": [
    "uids = np.array(list(uids))"
   ]
  },
  {
   "cell_type": "code",
   "execution_count": 7,
   "metadata": {},
   "outputs": [],
   "source": [
    "rtu = np.array(us.userId)"
   ]
  },
  {
   "cell_type": "code",
   "execution_count": 8,
   "metadata": {},
   "outputs": [],
   "source": [
    "rtm = np.array(us.movieId)"
   ]
  },
  {
   "cell_type": "code",
   "execution_count": 9,
   "metadata": {},
   "outputs": [],
   "source": [
    "rtr = np.array(us.rating)"
   ]
  },
  {
   "cell_type": "code",
   "execution_count": 25,
   "metadata": {},
   "outputs": [
    {
     "data": {
      "text/plain": [
       "(20000,)"
      ]
     },
     "execution_count": 25,
     "metadata": {},
     "output_type": "execute_result"
    }
   ],
   "source": [
    "uids.shape"
   ]
  },
  {
   "cell_type": "code",
   "execution_count": 28,
   "metadata": {},
   "outputs": [],
   "source": [
    "@numba.njit()\n",
    "def makeumat(uu, nmv, start, end):\n",
    "    msim = np.zeros((nmv, nmv))\n",
    "    for i in range(start, end):\n",
    "        col = uu[:, i]\n",
    "        for j in range(i+1, nmv):\n",
    "            msim[i, j] += np.linalg.norm(col-uu[:, j])\n",
    "        if i%1000 == 0:\n",
    "            print('done', i)\n",
    "#     del uu\n",
    "    return msim"
   ]
  },
  {
   "cell_type": "code",
   "execution_count": null,
   "metadata": {},
   "outputs": [],
   "source": [
    "msim = makeumat(uu, len(mv2id2), 0, len(mv2id2))"
   ]
  },
  {
   "cell_type": "code",
   "execution_count": 27,
   "metadata": {},
   "outputs": [],
   "source": [
    "#del us\n",
    "uu = np.zeros((uids.shape[0], len(mv2id2)))\n",
    "u2id = {uids[i]:i for i in range(len(uids))}\n",
    "for i in range(len(rtu)):\n",
    "    uu[u2id[rtu[i]], mv2id2[rtm[i]]] = rtr[i]"
   ]
  },
  {
   "cell_type": "code",
   "execution_count": 7,
   "metadata": {},
   "outputs": [
    {
     "name": "stdout",
     "output_type": "stream",
     "text": [
      "len 24529\n",
      "done psim\n"
     ]
    }
   ],
   "source": [
    "psim = other_calculate_similarity('tags')"
   ]
  },
  {
   "cell_type": "code",
   "execution_count": null,
   "metadata": {},
   "outputs": [],
   "source": [
    "np.savez_compressed('language-similarity.npz', language_similarity())"
   ]
  },
  {
   "cell_type": "code",
   "execution_count": 7,
   "metadata": {},
   "outputs": [],
   "source": [
    "def language_similarity():\n",
    "    sim = np.zeros((23843, 23843), dtype='f4')\n",
    "    tpl = [(mv, mv2id2[mv]) for mv in mv2id2]\n",
    "    lmap = {mv:l for mv, l in cm[['movieId', 'language']].itertuples(index=False)}\n",
    "    for i in range(23843):\n",
    "        for j in range(i, 23843):\n",
    "            sim[tpl[i][1], tpl[j][1]] = (lmap[tpl[i][0]] == lmap[tpl[j][0]])\n",
    "        if i%1000 == 0:\n",
    "            print(i)\n",
    "    return sim"
   ]
  },
  {
   "cell_type": "code",
   "execution_count": null,
   "metadata": {},
   "outputs": [],
   "source": [
    "# same process for genre-similarity.npz\n",
    "with np.load('all_similarities/rating-similarity.npz') as npf:\n",
    "    rs = npf['arr_0']\n",
    "rs += 1\n",
    "rs = np.reciprocal(rs)\n",
    "np.savez_compressed('all_similarities/rating_sim_invscaled.npz', rs)\n",
    "mm = np.memmap('all_similarities/rating-similarity.npy', 'w+', dtype='<f2', shape=(23843, 23843))\n",
    "mm[:] = rs[:]\n",
    "mm.flush()"
   ]
  }
 ],
 "metadata": {
  "kernelspec": {
   "display_name": "Python 3",
   "language": "python",
   "name": "python3"
  },
  "language_info": {
   "codemirror_mode": {
    "name": "ipython",
    "version": 3
   },
   "file_extension": ".py",
   "mimetype": "text/x-python",
   "name": "python",
   "nbconvert_exporter": "python",
   "pygments_lexer": "ipython3",
   "version": "3.8.5"
  }
 },
 "nbformat": 4,
 "nbformat_minor": 4
}
