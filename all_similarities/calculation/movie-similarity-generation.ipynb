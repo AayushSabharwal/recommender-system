{
 "cells": [
  {
   "cell_type": "code",
   "execution_count": 1,
   "metadata": {},
   "outputs": [],
   "source": [
    "import pandas as pd\n",
    "import numpy as np\n",
    "import random\n",
    "import pickle\n",
    "import numba"
   ]
  },
  {
   "cell_type": "code",
   "execution_count": 2,
   "metadata": {},
   "outputs": [],
   "source": [
    "cm = pd.read_csv('Movie_data_cleaned.csv')\n",
    "cm['genres'] = cm.genres.str.split('/')\n",
    "cm['tags'] = cm.tags.str.split('\\|\\|')\n",
    "mymv = set(cm.movieId)"
   ]
  },
  {
   "cell_type": "code",
   "execution_count": 13,
   "metadata": {},
   "outputs": [
    {
     "data": {
      "text/html": [
       "<div>\n",
       "<style scoped>\n",
       "    .dataframe tbody tr th:only-of-type {\n",
       "        vertical-align: middle;\n",
       "    }\n",
       "\n",
       "    .dataframe tbody tr th {\n",
       "        vertical-align: top;\n",
       "    }\n",
       "\n",
       "    .dataframe thead th {\n",
       "        text-align: right;\n",
       "    }\n",
       "</style>\n",
       "<table border=\"1\" class=\"dataframe\">\n",
       "  <thead>\n",
       "    <tr style=\"text-align: right;\">\n",
       "      <th></th>\n",
       "      <th>movieId</th>\n",
       "      <th>imdbId</th>\n",
       "      <th>title</th>\n",
       "      <th>language</th>\n",
       "      <th>year</th>\n",
       "      <th>director</th>\n",
       "      <th>tags</th>\n",
       "      <th>cast</th>\n",
       "      <th>genres</th>\n",
       "      <th>rating</th>\n",
       "    </tr>\n",
       "  </thead>\n",
       "  <tbody>\n",
       "    <tr>\n",
       "      <th>0</th>\n",
       "      <td>180067</td>\n",
       "      <td>2371383</td>\n",
       "      <td>Louis Theroux: Extreme Love - Dementia</td>\n",
       "      <td>English</td>\n",
       "      <td>2012</td>\n",
       "      <td>Dan Child</td>\n",
       "      <td>[old age/phoenix arizona/senility/retirement h...</td>\n",
       "      <td>Louis Theroux</td>\n",
       "      <td>[Documentary]</td>\n",
       "      <td>7.9</td>\n",
       "    </tr>\n",
       "    <tr>\n",
       "      <th>1</th>\n",
       "      <td>180075</td>\n",
       "      <td>6108612</td>\n",
       "      <td>The Connected Universe</td>\n",
       "      <td>English</td>\n",
       "      <td>2016</td>\n",
       "      <td>Malcom Carter</td>\n",
       "      <td>[pseudo science]</td>\n",
       "      <td>Dasha German/Nassim Haramein/Patrick Stewart</td>\n",
       "      <td>[Documentary]</td>\n",
       "      <td>7.6</td>\n",
       "    </tr>\n",
       "    <tr>\n",
       "      <th>2</th>\n",
       "      <td>180077</td>\n",
       "      <td>196699</td>\n",
       "      <td>The Lifestyle</td>\n",
       "      <td>English</td>\n",
       "      <td>1999</td>\n",
       "      <td>David Schisgall</td>\n",
       "      <td>[barbecue/old woman/old man/male nudity/female...</td>\n",
       "      <td>e Amore\", /,</td>\n",
       "      <td>[Documentary]</td>\n",
       "      <td>5.7</td>\n",
       "    </tr>\n",
       "    <tr>\n",
       "      <th>3</th>\n",
       "      <td>180079</td>\n",
       "      <td>838233</td>\n",
       "      <td>A Thousand Years of Good Prayers</td>\n",
       "      <td>English</td>\n",
       "      <td>2007</td>\n",
       "      <td>Wayne Wang</td>\n",
       "      <td>[language barrier/chinese american/boyfriend g...</td>\n",
       "      <td>Henry O/Pasha D. Lychnikoff/Feihong Yu/Vida Gh...</td>\n",
       "      <td>[Romance, Drama]</td>\n",
       "      <td>6.7</td>\n",
       "    </tr>\n",
       "    <tr>\n",
       "      <th>4</th>\n",
       "      <td>180083</td>\n",
       "      <td>3496526</td>\n",
       "      <td>Geographically Desirable</td>\n",
       "      <td>English</td>\n",
       "      <td>2015</td>\n",
       "      <td>Mike Kravinsky</td>\n",
       "      <td>[dog]</td>\n",
       "      <td>Blair Bowers/Andrew Agner-Nichols/Nic Detorie/...</td>\n",
       "      <td>[Romance, Comedy]</td>\n",
       "      <td>5.4</td>\n",
       "    </tr>\n",
       "    <tr>\n",
       "      <th>...</th>\n",
       "      <td>...</td>\n",
       "      <td>...</td>\n",
       "      <td>...</td>\n",
       "      <td>...</td>\n",
       "      <td>...</td>\n",
       "      <td>...</td>\n",
       "      <td>...</td>\n",
       "      <td>...</td>\n",
       "      <td>...</td>\n",
       "      <td>...</td>\n",
       "    </tr>\n",
       "    <tr>\n",
       "      <th>23838</th>\n",
       "      <td>209069</td>\n",
       "      <td>272125</td>\n",
       "      <td>Snapshots</td>\n",
       "      <td>English</td>\n",
       "      <td>2002</td>\n",
       "      <td>Rudolf van den Berg</td>\n",
       "      <td>[briefcase of money/tent/mispronounced french/...</td>\n",
       "      <td>Burt Reynolds/Julie Christie/Carmen Chaplin/An...</td>\n",
       "      <td>[Romance]</td>\n",
       "      <td>5.9</td>\n",
       "    </tr>\n",
       "    <tr>\n",
       "      <th>23839</th>\n",
       "      <td>209073</td>\n",
       "      <td>4015996</td>\n",
       "      <td>The Arbalest</td>\n",
       "      <td>English</td>\n",
       "      <td>2016</td>\n",
       "      <td>Adam Pinney</td>\n",
       "      <td>[obsession]</td>\n",
       "      <td>Mike Brune/Tallie Medel/Matthew Stanton/Felice...</td>\n",
       "      <td>[Drama]</td>\n",
       "      <td>5.6</td>\n",
       "    </tr>\n",
       "    <tr>\n",
       "      <th>23840</th>\n",
       "      <td>209085</td>\n",
       "      <td>10768348</td>\n",
       "      <td>The Mistletoe Secret</td>\n",
       "      <td>English</td>\n",
       "      <td>2019</td>\n",
       "      <td>Terry Ingram</td>\n",
       "      <td>[christmas]</td>\n",
       "      <td>Kellie Pickler/Tyler Hynes/Christopher Russell...</td>\n",
       "      <td>[Romance, Drama]</td>\n",
       "      <td>6.4</td>\n",
       "    </tr>\n",
       "    <tr>\n",
       "      <th>23841</th>\n",
       "      <td>209129</td>\n",
       "      <td>2361219</td>\n",
       "      <td>Destination Titan</td>\n",
       "      <td>English</td>\n",
       "      <td>2011</td>\n",
       "      <td>Stephen Slater</td>\n",
       "      <td>[space exploration/gravity assist/saturn the p...</td>\n",
       "      <td>John Zarnecki/Ralph Lorenz/Mark Leese/Patrick ...</td>\n",
       "      <td>[Documentary]</td>\n",
       "      <td>7.8</td>\n",
       "    </tr>\n",
       "    <tr>\n",
       "      <th>23842</th>\n",
       "      <td>209169</td>\n",
       "      <td>249603</td>\n",
       "      <td>A Girl Thing</td>\n",
       "      <td>English</td>\n",
       "      <td>2001</td>\n",
       "      <td>Lee Rose</td>\n",
       "      <td>[triple f rated/lesbian breast kissing/naked w...</td>\n",
       "      <td>Kate Capshaw/Stockard Channing/Rebecca De Morn...</td>\n",
       "      <td>[Romance, Comedy, Drama]</td>\n",
       "      <td>6.2</td>\n",
       "    </tr>\n",
       "  </tbody>\n",
       "</table>\n",
       "<p>23843 rows × 10 columns</p>\n",
       "</div>"
      ],
      "text/plain": [
       "       movieId    imdbId                                   title language  \\\n",
       "0       180067   2371383  Louis Theroux: Extreme Love - Dementia  English   \n",
       "1       180075   6108612                  The Connected Universe  English   \n",
       "2       180077    196699                           The Lifestyle  English   \n",
       "3       180079    838233        A Thousand Years of Good Prayers  English   \n",
       "4       180083   3496526                Geographically Desirable  English   \n",
       "...        ...       ...                                     ...      ...   \n",
       "23838   209069    272125                               Snapshots  English   \n",
       "23839   209073   4015996                            The Arbalest  English   \n",
       "23840   209085  10768348                    The Mistletoe Secret  English   \n",
       "23841   209129   2361219                       Destination Titan  English   \n",
       "23842   209169    249603                            A Girl Thing  English   \n",
       "\n",
       "       year             director  \\\n",
       "0      2012            Dan Child   \n",
       "1      2016        Malcom Carter   \n",
       "2      1999      David Schisgall   \n",
       "3      2007           Wayne Wang   \n",
       "4      2015       Mike Kravinsky   \n",
       "...     ...                  ...   \n",
       "23838  2002  Rudolf van den Berg   \n",
       "23839  2016          Adam Pinney   \n",
       "23840  2019         Terry Ingram   \n",
       "23841  2011       Stephen Slater   \n",
       "23842  2001             Lee Rose   \n",
       "\n",
       "                                                    tags  \\\n",
       "0      [old age/phoenix arizona/senility/retirement h...   \n",
       "1                                       [pseudo science]   \n",
       "2      [barbecue/old woman/old man/male nudity/female...   \n",
       "3      [language barrier/chinese american/boyfriend g...   \n",
       "4                                                  [dog]   \n",
       "...                                                  ...   \n",
       "23838  [briefcase of money/tent/mispronounced french/...   \n",
       "23839                                        [obsession]   \n",
       "23840                                        [christmas]   \n",
       "23841  [space exploration/gravity assist/saturn the p...   \n",
       "23842  [triple f rated/lesbian breast kissing/naked w...   \n",
       "\n",
       "                                                    cast  \\\n",
       "0                                          Louis Theroux   \n",
       "1           Dasha German/Nassim Haramein/Patrick Stewart   \n",
       "2                                          e Amore\", /,    \n",
       "3      Henry O/Pasha D. Lychnikoff/Feihong Yu/Vida Gh...   \n",
       "4      Blair Bowers/Andrew Agner-Nichols/Nic Detorie/...   \n",
       "...                                                  ...   \n",
       "23838  Burt Reynolds/Julie Christie/Carmen Chaplin/An...   \n",
       "23839  Mike Brune/Tallie Medel/Matthew Stanton/Felice...   \n",
       "23840  Kellie Pickler/Tyler Hynes/Christopher Russell...   \n",
       "23841  John Zarnecki/Ralph Lorenz/Mark Leese/Patrick ...   \n",
       "23842  Kate Capshaw/Stockard Channing/Rebecca De Morn...   \n",
       "\n",
       "                         genres  rating  \n",
       "0                 [Documentary]     7.9  \n",
       "1                 [Documentary]     7.6  \n",
       "2                 [Documentary]     5.7  \n",
       "3              [Romance, Drama]     6.7  \n",
       "4             [Romance, Comedy]     5.4  \n",
       "...                         ...     ...  \n",
       "23838                 [Romance]     5.9  \n",
       "23839                   [Drama]     5.6  \n",
       "23840          [Romance, Drama]     6.4  \n",
       "23841             [Documentary]     7.8  \n",
       "23842  [Romance, Comedy, Drama]     6.2  \n",
       "\n",
       "[23843 rows x 10 columns]"
      ]
     },
     "execution_count": 13,
     "metadata": {},
     "output_type": "execute_result"
    }
   ],
   "source": [
    "cm"
   ]
  },
  {
   "cell_type": "code",
   "execution_count": null,
   "metadata": {},
   "outputs": [],
   "source": [
    "s = set()\n",
    "for it in cm['rating']:\n",
    "    s |= set([it])"
   ]
  },
  {
   "cell_type": "code",
   "execution_count": 4,
   "metadata": {},
   "outputs": [],
   "source": [
    "with open('movie-id-map.pkl', 'rb') as f:\n",
    "    mv2id = pickle.load(f)\n",
    "with open('movie-id-map2.pkl', 'rb') as f:\n",
    "    mv2id2 = pickle.load(f)"
   ]
  },
  {
   "cell_type": "code",
   "execution_count": 23,
   "metadata": {},
   "outputs": [],
   "source": [
    "mymv = list(mymv)\n",
    "mv2id = {mymv[i]: i for i in range(len(mymv))}\n",
    "with open('movie-id-map.pkl', 'wb') as of:\n",
    "    pickle.dump(mv2id, of)"
   ]
  },
  {
   "cell_type": "code",
   "execution_count": 4,
   "metadata": {},
   "outputs": [],
   "source": [
    "def calculate_similarity(cname: str):\n",
    "    dist = set()\n",
    "    for it in cm[cname]:\n",
    "        dist |= set(it)\n",
    "    print(f\"len {len(dist)}\")\n",
    "    dist = list(dist)\n",
    "    p2id = {dist[i]: i for i in range(len(dist))}\n",
    "    psim = np.zeros((len(dist), len(mymv)), dtype='f4')\n",
    "    for mv, it in cm[['movieId', cname]].itertuples(index=False):\n",
    "        for i in it:\n",
    "            psim[p2id[i], mv2id2[mv]] += 1\n",
    "    print('done psim')\n",
    "    \n",
    "    msim = np.zeros((len(mymv), len(mymv)), dtype='f4')\n",
    "    for i in range(len(mymv)):\n",
    "        msim[:, i] += np.linalg.norm(psim[:, np.newaxis, i]-psim, axis=0)\n",
    "        if i%1000 == 0:\n",
    "            print(f'done{i}')\n",
    "    return msim"
   ]
  },
  {
   "cell_type": "code",
   "execution_count": null,
   "metadata": {},
   "outputs": [],
   "source": [
    "np.savez_compressed('director-similarity.npz', calculate_similarity('director'))"
   ]
  },
  {
   "cell_type": "code",
   "execution_count": null,
   "metadata": {
    "jupyter": {
     "source_hidden": true
    }
   },
   "outputs": [],
   "source": [
    "def big_calculate_similarity(cname: str):\n",
    "    dist = set()\n",
    "    for it in cm[cname]:\n",
    "        dist |= set(it)\n",
    "    print(f\"len {len(dist)}\")\n",
    "    dist = list(dist)\n",
    "    p2id = {dist[i]: i for i in range(len(dist))}\n",
    "    f = h5py.File('temp.hdf5', 'w')\n",
    "    psim = f.create_dataset(cname+'-similarity', (len(dist), len(mymv)), dtype='f2')\n",
    "    i = 0\n",
    "    for mv, it in cm[['movieId', cname]].itertuples(index=False):\n",
    "        psim[np.sort(np.array([p2id[i] for i in it])), mv2id[mv]] = 1\n",
    "        i += 1\n",
    "        if i%1000 == 0:\n",
    "            print(f'psim {i}')\n",
    "    print('done psim')\n",
    "    f.close()\n",
    "    return\n",
    "    final = h5py.File('similarities.hdf5', 'w')\n",
    "    msim = final.create_dataset(cname+'-similarity', (len(mymv), len(mymv)), dtype='f2')\n",
    "    for i in range(len(mymv)):\n",
    "        msim[:, i] += np.linalg.norm(psim[:, i][:, np.newaxis]-psim, axis=0)\n",
    "        if i%1000 == 0:\n",
    "            print(f'done{i}')\n",
    "    f.close()\n",
    "    final.close()"
   ]
  },
  {
   "cell_type": "code",
   "execution_count": null,
   "metadata": {},
   "outputs": [],
   "source": [
    "np.savez_compressed('genre-similarity.npz', calculate_similarity('genres'))"
   ]
  },
  {
   "cell_type": "code",
   "execution_count": 8,
   "metadata": {},
   "outputs": [],
   "source": [
    "def rating_similarity():\n",
    "    rsim = np.zeros((len(mymv), len(mymv)), dtype='f4')\n",
    "    i = 0\n",
    "    for mv, rt in cm[['movieId', 'rating']].itertuples(index=False):\n",
    "        rsim[mv2id2[mv], :] += rt\n",
    "        rsim[:, mv2id2[mv]] -= rt\n",
    "        i += 1\n",
    "        if i%1000 == 0:\n",
    "            print('done', i)\n",
    "    return rsim"
   ]
  },
  {
   "cell_type": "code",
   "execution_count": null,
   "metadata": {},
   "outputs": [],
   "source": [
    "np.savez_compressed('rating-similarity.npz', rating_similarity())"
   ]
  },
  {
   "cell_type": "code",
   "execution_count": null,
   "metadata": {},
   "outputs": [],
   "source": [
    "final['cast-similarity']"
   ]
  },
  {
   "cell_type": "code",
   "execution_count": 10,
   "metadata": {},
   "outputs": [],
   "source": [
    "def half_similarity(cname: str):\n",
    "    print('s')\n",
    "    rf = h5py.File('/media/aayush/Acer/UbuntuStuff/temp.hdf5', 'r')\n",
    "    print('l1')\n",
    "    psim = rf[cname+'-similarity']\n",
    "    print('l2')\n",
    "    final = h5py.File('/media/aayush/Acer/UbuntuStuff/similarities.hdf5', 'w')\n",
    "    print('l3')\n",
    "    msim = final.create_dataset(cname+'-similarity', (len(mymv), len(mymv)), dtype='f2')\n",
    "    print('l4')\n",
    "    for i in range(len(mymv)-1):\n",
    "        print('start', i)\n",
    "        row = rf[cname+'-similarity'][:, i]\n",
    "        for j in range(i+1, len(mymv)):\n",
    "            print('mid', j)\n",
    "            msim[i, j] = np.linalg.norm(row - rf[cname+'-similarity'][:, j])\n",
    "    rf.close()\n",
    "    final.close()"
   ]
  },
  {
   "cell_type": "code",
   "execution_count": null,
   "metadata": {},
   "outputs": [],
   "source": [
    "big_calculate_similarity('cast')\n"
   ]
  },
  {
   "cell_type": "code",
   "execution_count": null,
   "metadata": {},
   "outputs": [],
   "source": [
    "half_similarity('cast')"
   ]
  },
  {
   "cell_type": "code",
   "execution_count": 5,
   "metadata": {},
   "outputs": [],
   "source": [
    "def other_calculate_similarity(cname: str):\n",
    "    dist = set()\n",
    "    for it in cm[cname].dropna():\n",
    "        dist |= set(it)\n",
    "    print(f\"len {len(dist)}\")\n",
    "    dist = list(dist)\n",
    "    p2id = {dist[i]: i for i in range(len(dist))}\n",
    "    psim = np.zeros((len(dist), len(mymv)), dtype='f4')\n",
    "    for mv, it in cm[['movieId', cname]].dropna().itertuples(index=False):\n",
    "        psim[[p2id[i] for i in it], mv2id2[mv]] += 1\n",
    "    print('done psim')\n",
    "    return psim\n",
    "    msim = np.zeros((len(mymv), len(mymv)), dtype='f4')\n",
    "    for i in range(len(mymv)):\n",
    "        msim[:, i] += np.linalg.norm(psim[:, np.newaxis, i]-psim, axis=0)\n",
    "        print(f'done{i}')\n",
    "    return msim"
   ]
  },
  {
   "cell_type": "code",
   "execution_count": 12,
   "metadata": {},
   "outputs": [],
   "source": [
    "@numba.jit(nopython=True, parallel=True)\n",
    "def other_half_similarity(sim, nmv, start, end):\n",
    "    print('Enter')\n",
    "    msim = np.zeros(shape=(nmv, nmv), dtype=numba.float32)\n",
    "    for i in range(start, end):\n",
    "        col = sim[:, i]\n",
    "        for j in range(i+1, nmv):\n",
    "            msim[i, j] += np.linalg.norm(col-sim[:, j])\n",
    "        print('done', i)\n",
    "    return msim"
   ]
  },
  {
   "cell_type": "code",
   "execution_count": 8,
   "metadata": {},
   "outputs": [
    {
     "name": "stdout",
     "output_type": "stream",
     "text": [
      "len 32\n",
      "done psim\n"
     ]
    }
   ],
   "source": [
    "psim = other_calculate_similarity('genres')"
   ]
  },
  {
   "cell_type": "code",
   "execution_count": null,
   "metadata": {},
   "outputs": [],
   "source": [
    "other_half_similarity(psim, len(mymv), 0, 10)"
   ]
  },
  {
   "cell_type": "code",
   "execution_count": 19,
   "metadata": {},
   "outputs": [],
   "source": [
    "def subset_similarity(cname: int, movies: list):\n",
    "    subset = cm[cm.movieId.isin(set(movies))].dropna()\n",
    "    dist = set()\n",
    "    for it in subset[cname]:\n",
    "        dist |= set(it)\n",
    "    dist = list(dist)\n",
    "    print('done set')\n",
    "    p_to_ind = {dist[i]: i for i in range(len(dist))}\n",
    "    movie_to_ind = {movies[i]: i for i in range(len(movies))}\n",
    "    psim = np.zeros((len(dist), len(movies)), dtype='<f2')\n",
    "    for mv, it in subset[['movieId', cname]].itertuples(index=False):\n",
    "        psim[[p_to_ind[i] for i in it], movie_to_ind[mv]] += 1\n",
    "    print('done psim')\n",
    "    msim = np.zeros((len(movies), len(movies)), dtype='<f2')\n",
    "    for i in range(len(movies)):\n",
    "        msim[:, i] += np.linalg.norm(psim[:, np.newaxis, i]-psim, axis=0)\n",
    "#         if i%100 == 0:\n",
    "        print('msim', i)\n",
    "    return msim"
   ]
  },
  {
   "cell_type": "code",
   "execution_count": 19,
   "metadata": {},
   "outputs": [],
   "source": [
    "uids = pickle.load(open('most-active-users.pkl', 'rb'))"
   ]
  },
  {
   "cell_type": "code",
   "execution_count": 4,
   "metadata": {},
   "outputs": [],
   "source": [
    "\n",
    "us = pd.read_csv('ml-25m/timeless_ratings.csv')\n",
    "us = us[us.userId.isin(uids)]\n",
    "us = us[us.movieId.isin(mv2id2)]"
   ]
  },
  {
   "cell_type": "code",
   "execution_count": 5,
   "metadata": {},
   "outputs": [
    {
     "data": {
      "text/plain": [
       "(9017307, 3)"
      ]
     },
     "execution_count": 5,
     "metadata": {},
     "output_type": "execute_result"
    }
   ],
   "source": [
    "us.shape"
   ]
  },
  {
   "cell_type": "code",
   "execution_count": 22,
   "metadata": {},
   "outputs": [],
   "source": [
    "uids = np.array(list(uids))"
   ]
  },
  {
   "cell_type": "code",
   "execution_count": 7,
   "metadata": {},
   "outputs": [],
   "source": [
    "rtu = np.array(us.userId)"
   ]
  },
  {
   "cell_type": "code",
   "execution_count": 8,
   "metadata": {},
   "outputs": [],
   "source": [
    "rtm = np.array(us.movieId)"
   ]
  },
  {
   "cell_type": "code",
   "execution_count": 9,
   "metadata": {},
   "outputs": [],
   "source": [
    "rtr = np.array(us.rating)"
   ]
  },
  {
   "cell_type": "code",
   "execution_count": 25,
   "metadata": {},
   "outputs": [
    {
     "data": {
      "text/plain": [
       "(20000,)"
      ]
     },
     "execution_count": 25,
     "metadata": {},
     "output_type": "execute_result"
    }
   ],
   "source": [
    "uids.shape"
   ]
  },
  {
   "cell_type": "code",
   "execution_count": 28,
   "metadata": {},
   "outputs": [],
   "source": [
    "@numba.njit()\n",
    "def makeumat(uu, nmv, start, end):\n",
    "    msim = np.zeros((nmv, nmv))\n",
    "    for i in range(start, end):\n",
    "        col = uu[:, i]\n",
    "        for j in range(i+1, nmv):\n",
    "            msim[i, j] += np.linalg.norm(col-uu[:, j])\n",
    "        if i%1000 == 0:\n",
    "            print('done', i)\n",
    "#     del uu\n",
    "    return msim"
   ]
  },
  {
   "cell_type": "code",
   "execution_count": null,
   "metadata": {},
   "outputs": [],
   "source": [
    "msim = makeumat(uu, len(mv2id2), 0, len(mv2id2))"
   ]
  },
  {
   "cell_type": "code",
   "execution_count": 27,
   "metadata": {},
   "outputs": [],
   "source": [
    "#del us\n",
    "uu = np.zeros((uids.shape[0], len(mv2id2)))\n",
    "u2id = {uids[i]:i for i in range(len(uids))}\n",
    "for i in range(len(rtu)):\n",
    "    uu[u2id[rtu[i]], mv2id2[rtm[i]]] = rtr[i]"
   ]
  },
  {
   "cell_type": "code",
   "execution_count": 7,
   "metadata": {},
   "outputs": [
    {
     "name": "stdout",
     "output_type": "stream",
     "text": [
      "len 24529\n",
      "done psim\n"
     ]
    }
   ],
   "source": [
    "psim = other_calculate_similarity('tags')"
   ]
  },
  {
   "cell_type": "code",
   "execution_count": null,
   "metadata": {},
   "outputs": [],
   "source": []
  },
  {
   "cell_type": "code",
   "execution_count": null,
   "metadata": {},
   "outputs": [],
   "source": [
    "# same process for genre-similarity.npz\n",
    "with np.load('all_similarities/rating-similarity.npz') as npf:\n",
    "    rs = npf['arr_0']\n",
    "rs += 1\n",
    "rs = np.reciprocal(rs)\n",
    "np.savez_compressed('all_similarities/rating_sim_invscaled.npz', rs)\n",
    "mm = np.memmap('all_similarities/rating-similarity.npy', 'w+', dtype='<f2', shape=(23843, 23843))\n",
    "mm[:] = rs[:]\n",
    "mm.flush()"
   ]
  }
 ],
 "metadata": {
  "kernelspec": {
   "display_name": "Python 3",
   "language": "python",
   "name": "python3"
  },
  "language_info": {
   "codemirror_mode": {
    "name": "ipython",
    "version": 3
   },
   "file_extension": ".py",
   "mimetype": "text/x-python",
   "name": "python",
   "nbconvert_exporter": "python",
   "pygments_lexer": "ipython3",
   "version": "3.8.5"
  }
 },
 "nbformat": 4,
 "nbformat_minor": 4
}
