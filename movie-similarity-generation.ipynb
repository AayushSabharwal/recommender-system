{
 "cells": [
  {
   "cell_type": "code",
   "execution_count": 1,
   "metadata": {},
   "outputs": [],
   "source": [
    "import pandas as pd\n",
    "import numpy as np\n",
    "import random\n",
    "import json\n",
    "import pickle\n",
    "import h5py\n",
    "import numba"
   ]
  },
  {
   "cell_type": "code",
   "execution_count": 2,
   "metadata": {},
   "outputs": [],
   "source": [
    "cm = pd.read_csv('final.csv')\n",
    "cm['genres'] = cm.genres.str.split('/')\n",
    "cm['tags'] = cm.tags.str.split('\\|\\|')\n",
    "mymv = set(cm.movieId)"
   ]
  },
  {
   "cell_type": "code",
   "execution_count": 4,
   "metadata": {},
   "outputs": [
    {
     "data": {
      "text/plain": [
       "0        180065\n",
       "1        180067\n",
       "2        180071\n",
       "3        180075\n",
       "4        180077\n",
       "          ...  \n",
       "25108    209073\n",
       "25109    209085\n",
       "25110    209123\n",
       "25111    209129\n",
       "25112    209169\n",
       "Name: movieId, Length: 25113, dtype: int64"
      ]
     },
     "execution_count": 4,
     "metadata": {},
     "output_type": "execute_result"
    }
   ],
   "source": [
    "cm.iloc[:,0]"
   ]
  },
  {
   "cell_type": "code",
   "execution_count": null,
   "metadata": {},
   "outputs": [],
   "source": [
    "s = set()\n",
    "for it in cm['rating']:\n",
    "    s |= set([it])"
   ]
  },
  {
   "cell_type": "code",
   "execution_count": 3,
   "metadata": {},
   "outputs": [],
   "source": [
    "with open('movie-id-map.pkl', 'rb') as f:\n",
    "    mv2id = pickle.load(f)"
   ]
  },
  {
   "cell_type": "code",
   "execution_count": 23,
   "metadata": {},
   "outputs": [],
   "source": [
    "mymv = list(mymv)\n",
    "mv2id = {mymv[i]: i for i in range(len(mymv))}\n",
    "with open('movie-id-map.pkl', 'wb') as of:\n",
    "    pickle.dump(mv2id, of)"
   ]
  },
  {
   "cell_type": "code",
   "execution_count": 7,
   "metadata": {},
   "outputs": [],
   "source": [
    "def calculate_similarity(cname: str):\n",
    "    dist = set()\n",
    "    for it in cm[cname]:\n",
    "        dist |= set(it)\n",
    "    print(f\"len {len(dist)}\")\n",
    "    dist = list(dist)\n",
    "    p2id = {dist[i]: i for i in range(len(dist))}\n",
    "    psim = np.zeros((len(dist), len(mymv)), dtype='<f2')\n",
    "    for mv, it in cm[['movieId', cname]].itertuples(index=False):\n",
    "        for i in it:\n",
    "            psim[p2id[i], mv2id[mv]] += 1\n",
    "    print('done psim')\n",
    "    return psim\n",
    "    msim = np.zeros((len(mymv), len(mymv)), dtype='<f2')\n",
    "    for i in range(len(mymv)):\n",
    "        msim[:, i] += np.linalg.norm(psim[:, np.newaxis, i]-psim, axis=0)\n",
    "        if i%1000 == 0:\n",
    "            print(f'done{i}')\n",
    "    return msim"
   ]
  },
  {
   "cell_type": "code",
   "execution_count": null,
   "metadata": {},
   "outputs": [],
   "source": []
  },
  {
   "cell_type": "code",
   "execution_count": null,
   "metadata": {},
   "outputs": [],
   "source": [
    "np.savez_compressed('director-similarity.npz', calculate_similarity('director'))"
   ]
  },
  {
   "cell_type": "code",
   "execution_count": null,
   "metadata": {
    "jupyter": {
     "source_hidden": true
    }
   },
   "outputs": [],
   "source": [
    "def big_calculate_similarity(cname: str):\n",
    "    dist = set()\n",
    "    for it in cm[cname]:\n",
    "        dist |= set(it)\n",
    "    print(f\"len {len(dist)}\")\n",
    "    dist = list(dist)\n",
    "    p2id = {dist[i]: i for i in range(len(dist))}\n",
    "    f = h5py.File('temp.hdf5', 'w')\n",
    "    psim = f.create_dataset(cname+'-similarity', (len(dist), len(mymv)), dtype='f2')\n",
    "    i = 0\n",
    "    for mv, it in cm[['movieId', cname]].itertuples(index=False):\n",
    "        psim[np.sort(np.array([p2id[i] for i in it])), mv2id[mv]] = 1\n",
    "        i += 1\n",
    "        if i%1000 == 0:\n",
    "            print(f'psim {i}')\n",
    "    print('done psim')\n",
    "    f.close()\n",
    "    return\n",
    "    final = h5py.File('similarities.hdf5', 'w')\n",
    "    msim = final.create_dataset(cname+'-similarity', (len(mymv), len(mymv)), dtype='f2')\n",
    "    for i in range(len(mymv)):\n",
    "        msim[:, i] += np.linalg.norm(psim[:, i][:, np.newaxis]-psim, axis=0)\n",
    "        if i%1000 == 0:\n",
    "            print(f'done{i}')\n",
    "    f.close()\n",
    "    final.close()"
   ]
  },
  {
   "cell_type": "code",
   "execution_count": null,
   "metadata": {},
   "outputs": [],
   "source": [
    "np.savez_compressed('genre-similarity.npz', calculate_similarity('genres'))"
   ]
  },
  {
   "cell_type": "code",
   "execution_count": 9,
   "metadata": {},
   "outputs": [],
   "source": [
    "def rating_similarity():\n",
    "    rsim = np.zeros((len(mymv), len(mymv)), dtype='<f2')\n",
    "    i = 0\n",
    "    for mv, rt in cm[['movieId', 'rating']].itertuples(index=False):\n",
    "        rsim[mv2id[mv], :] += rt\n",
    "        rsim[:, mv2id[mv]] -= rt\n",
    "        i += 1\n",
    "        if i%1000 == 0:\n",
    "            print('done', i)\n",
    "    return rsim"
   ]
  },
  {
   "cell_type": "code",
   "execution_count": null,
   "metadata": {},
   "outputs": [],
   "source": [
    "np.savez_compressed('rating-similarity.npz', rating_similarity())"
   ]
  },
  {
   "cell_type": "code",
   "execution_count": null,
   "metadata": {},
   "outputs": [],
   "source": [
    "final['cast-similarity']"
   ]
  },
  {
   "cell_type": "code",
   "execution_count": 10,
   "metadata": {},
   "outputs": [],
   "source": [
    "def half_similarity(cname: str):\n",
    "    print('s')\n",
    "    rf = h5py.File('/media/aayush/Acer/UbuntuStuff/temp.hdf5', 'r')\n",
    "    print('l1')\n",
    "    psim = rf[cname+'-similarity']\n",
    "    print('l2')\n",
    "    final = h5py.File('/media/aayush/Acer/UbuntuStuff/similarities.hdf5', 'w')\n",
    "    print('l3')\n",
    "    msim = final.create_dataset(cname+'-similarity', (len(mymv), len(mymv)), dtype='f2')\n",
    "    print('l4')\n",
    "    for i in range(len(mymv)-1):\n",
    "        print('start', i)\n",
    "        row = rf[cname+'-similarity'][:, i]\n",
    "        for j in range(i+1, len(mymv)):\n",
    "            print('mid', j)\n",
    "            msim[i, j] = np.linalg.norm(row - rf[cname+'-similarity'][:, j])\n",
    "    rf.close()\n",
    "    final.close()"
   ]
  },
  {
   "cell_type": "code",
   "execution_count": null,
   "metadata": {},
   "outputs": [],
   "source": [
    "big_calculate_similarity('cast')\n"
   ]
  },
  {
   "cell_type": "code",
   "execution_count": null,
   "metadata": {},
   "outputs": [],
   "source": [
    "half_similarity('cast')"
   ]
  },
  {
   "cell_type": "code",
   "execution_count": 7,
   "metadata": {},
   "outputs": [],
   "source": [
    "def other_calculate_similarity(cname: str):\n",
    "    dist = set()\n",
    "    for it in cm[cname].dropna():\n",
    "        dist |= set(it)\n",
    "    print(f\"len {len(dist)}\")\n",
    "    dist = list(dist)\n",
    "    p2id = {dist[i]: i for i in range(len(dist))}\n",
    "    psim = np.zeros((len(dist), len(mymv)), dtype='f4')\n",
    "    for mv, it in cm[['movieId', cname]].dropna().itertuples(index=False):\n",
    "        psim[[p2id[i] for i in it], mv2id[mv]] += 1\n",
    "    print('done psim')\n",
    "    return psim\n",
    "    msim = np.zeros((len(mymv), len(mymv)), dtype='<f2')\n",
    "    for i in range(len(mymv)):\n",
    "        msim[:, i] += np.linalg.norm(psim[:, np.newaxis, i]-psim, axis=0)\n",
    "        print(f'done{i}')\n",
    "    return msim"
   ]
  },
  {
   "cell_type": "code",
   "execution_count": 12,
   "metadata": {},
   "outputs": [],
   "source": [
    "@numba.jit(nopython=True, parallel=True)\n",
    "def other_half_similarity(sim, nmv, start, end):\n",
    "    print('Enter')\n",
    "    msim = np.zeros(shape=(nmv, nmv), dtype=numba.float32)\n",
    "    for i in range(start, end):\n",
    "        col = sim[:, i]\n",
    "        for j in range(i+1, nmv):\n",
    "            msim[i, j] += np.linalg.norm(col-sim[:, j])\n",
    "        print('done', i)\n",
    "    return msim"
   ]
  },
  {
   "cell_type": "code",
   "execution_count": 9,
   "metadata": {},
   "outputs": [
    {
     "name": "stdout",
     "output_type": "stream",
     "text": [
      "len 24529\n",
      "done psim\n"
     ]
    }
   ],
   "source": [
    "psim = other_calculate_similarity('tags')"
   ]
  },
  {
   "cell_type": "code",
   "execution_count": 13,
   "metadata": {},
   "outputs": [
    {
     "name": "stdout",
     "output_type": "stream",
     "text": [
      "Enter\n",
      "done 0\n",
      "done 1\n",
      "done 2\n",
      "done 3\n",
      "done 4\n",
      "done 5\n",
      "done 6\n",
      "done 7\n",
      "done 8\n",
      "done 9\n"
     ]
    },
    {
     "data": {
      "text/plain": [
       "array([[0.       , 3.1622777, 2.828427 , ..., 2.6457512, 3.1622777,\n",
       "        2.236068 ],\n",
       "       [0.       , 0.       , 3.1622777, ..., 2.6457512, 3.1622777,\n",
       "        2.236068 ],\n",
       "       [0.       , 0.       , 0.       , ..., 2.6457512, 3.1622777,\n",
       "        2.236068 ],\n",
       "       ...,\n",
       "       [0.       , 0.       , 0.       , ..., 0.       , 0.       ,\n",
       "        0.       ],\n",
       "       [0.       , 0.       , 0.       , ..., 0.       , 0.       ,\n",
       "        0.       ],\n",
       "       [0.       , 0.       , 0.       , ..., 0.       , 0.       ,\n",
       "        0.       ]], dtype=float32)"
      ]
     },
     "execution_count": 13,
     "metadata": {},
     "output_type": "execute_result"
    }
   ],
   "source": [
    "other_half_similarity(psim, len(mymv), 0, 10)"
   ]
  },
  {
   "cell_type": "code",
   "execution_count": 19,
   "metadata": {},
   "outputs": [],
   "source": [
    "def subset_similarity(cname: int, movies: list):\n",
    "    subset = cm[cm.movieId.isin(set(movies))].dropna()\n",
    "    dist = set()\n",
    "    for it in subset[cname]:\n",
    "        dist |= set(it)\n",
    "    dist = list(dist)\n",
    "    print('done set')\n",
    "    p_to_ind = {dist[i]: i for i in range(len(dist))}\n",
    "    movie_to_ind = {movies[i]: i for i in range(len(movies))}\n",
    "    psim = np.zeros((len(dist), len(movies)), dtype='<f2')\n",
    "    for mv, it in subset[['movieId', cname]].itertuples(index=False):\n",
    "        psim[[p_to_ind[i] for i in it], movie_to_ind[mv]] += 1\n",
    "    print('done psim')\n",
    "    msim = np.zeros((len(movies), len(movies)), dtype='<f2')\n",
    "    for i in range(len(movies)):\n",
    "        msim[:, i] += np.linalg.norm(psim[:, np.newaxis, i]-psim, axis=0)\n",
    "#         if i%100 == 0:\n",
    "        print('msim', i)\n",
    "    return msim"
   ]
  },
  {
   "cell_type": "code",
   "execution_count": 15,
   "metadata": {},
   "outputs": [],
   "source": [
    "umv = random.sample(mymv, 3000)"
   ]
  },
  {
   "cell_type": "code",
   "execution_count": null,
   "metadata": {},
   "outputs": [],
   "source": [
    "mat = subset_similarity('tags', umv)"
   ]
  },
  {
   "cell_type": "code",
   "execution_count": 11,
   "metadata": {},
   "outputs": [
    {
     "data": {
      "text/plain": [
       "[0, 1, 2, 3, 4, 5, 6, 7, 8, 9]"
      ]
     },
     "execution_count": 11,
     "metadata": {},
     "output_type": "execute_result"
    }
   ],
   "source": [
    "list(range(10))"
   ]
  },
  {
   "cell_type": "code",
   "execution_count": null,
   "metadata": {},
   "outputs": [],
   "source": []
  }
 ],
 "metadata": {
  "kernelspec": {
   "display_name": "Python 3",
   "language": "python",
   "name": "python3"
  },
  "language_info": {
   "codemirror_mode": {
    "name": "ipython",
    "version": 3
   },
   "file_extension": ".py",
   "mimetype": "text/x-python",
   "name": "python",
   "nbconvert_exporter": "python",
   "pygments_lexer": "ipython3",
   "version": "3.8.5"
  }
 },
 "nbformat": 4,
 "nbformat_minor": 4
}
